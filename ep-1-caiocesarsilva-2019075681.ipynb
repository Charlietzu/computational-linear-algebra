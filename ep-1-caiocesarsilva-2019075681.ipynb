{
 "cells": [
  {
   "cell_type": "markdown",
   "metadata": {
    "id": "ruYnh950B_xv"
   },
   "source": [
    "# Exercício de Programação 1\n",
    "\n",
    "<font color=\"red\">**Prazo de submissão: 23:55 do dia 04.01.2021** </font>\n",
    "\n",
    "2020.2 Álgebra Linear Computacional - DCC - UFMG\n",
    "\n",
    "Erickson - Fabricio\n",
    "\n",
    "Instruções:\n",
    "* Antes de submeter suas soluções, certifique-se de que tudo roda como esperado. Primeiro, **reinicie o kernel** no menu, selecione Kernel$\\rightarrow$Restart e então execute **todas as células** (no menu, Cell$\\rightarrow$Run All)\n",
    "* Apenas o arquivo .ipynb deve ser submetido. Ele não deve ser compactado.\n",
    "* Não deixe de preencher seu nome e número de matrícula na célula a seguir"
   ]
  },
  {
   "cell_type": "markdown",
   "metadata": {
    "id": "x4CsNEoOF4BC"
   },
   "source": [
    "**Nome do aluno:** Caio César Silva\n",
    "\n",
    "**Matricula:** 2019075681"
   ]
  },
  {
   "cell_type": "code",
   "execution_count": 1,
   "metadata": {},
   "outputs": [],
   "source": [
    "# Importação da biblioteca numpy\n",
    "\n",
    "import numpy as np\n",
    "\n",
    "# Importação da biblioteca matplotlib\n",
    "\n",
    "import matplotlib.pyplot as plt"
   ]
  },
  {
   "cell_type": "markdown",
   "metadata": {
    "id": "Wj3pr8MlsKDK"
   },
   "source": [
    "### Questão 1\n",
    "\n",
    "Dadas as matrizes $A$, $B$ e o vetor $C$:\n",
    "\n",
    "$$\n",
    "A = \\begin{bmatrix}\n",
    " 2 & 1 & 3\\\\\n",
    " 3 & 1 & 4\\\\\n",
    " 5 & 7 & 12\n",
    "\\end{bmatrix}_{3\\times 3}\n",
    "\\qquad\n",
    "B = \\begin{bmatrix}\n",
    " 1 & 0 & 0\\\\\n",
    " 0 & 1 & 0\\\\\n",
    " 0 & 0 & 1\n",
    "\\end{bmatrix}_{3\\times 3}\n",
    "\\qquad\n",
    "C = \\begin{bmatrix}\n",
    " 3 \\\\\n",
    " 1 \\\\\n",
    " 2\n",
    "\\end{bmatrix}_{3\\times 1}\n",
    "$$\n",
    "\n",
    "Gere as matrizes D, E e o vetor F tal que:\n",
    "\n",
    "$$\n",
    "D = A B \\\\\n",
    "E = A^\\top + B\\\\\n",
    "F = A  C\n",
    "$$\n",
    "\n",
    "*Dicas:*\n",
    "* *Imprima ```A.shape, B.shape, C.shape``` e confira se as dimensões de suas matrizes batem com a descrição do enunciado.*\n",
    "* As operações de produto e transposição estão definidas na documentação da biblioteca ```numpy```."
   ]
  },
  {
   "cell_type": "code",
   "execution_count": 2,
   "metadata": {
    "id": "9ttFs0HQxBj-"
   },
   "outputs": [
    {
     "name": "stdout",
     "output_type": "stream",
     "text": [
      "[[ 2  1  3]\n",
      " [ 3  1  4]\n",
      " [ 5  7 12]]\n",
      "\n",
      "\n",
      "[[ 3  3  5]\n",
      " [ 1  2  7]\n",
      " [ 3  4 13]]\n",
      "\n",
      "\n",
      "[[13]\n",
      " [18]\n",
      " [46]]\n"
     ]
    }
   ],
   "source": [
    "# Código para Exercício 1\n",
    "A = np.array([[2,1,3],[3,1,4],[5,7,12]])\n",
    "B = np.array([[1,0,0],[0,1,0],[0,0,1]])\n",
    "C = np.array([[3],[1],[2]])\n",
    "\n",
    "D = A.dot(B)\n",
    "E = np.transpose(A) + B\n",
    "F = A.dot(C)\n",
    "\n",
    "print(D)\n",
    "print('\\n')\n",
    "print(E)\n",
    "print('\\n')\n",
    "print(F)"
   ]
  },
  {
   "cell_type": "markdown",
   "metadata": {
    "id": "6rP_Qt3xGiZv"
   },
   "source": [
    "### Questão 2\n"
   ]
  },
  {
   "cell_type": "markdown",
   "metadata": {
    "id": "s27s4Jp-U9n1"
   },
   "source": [
    "\n",
    "#### Questão 2.1\n",
    "\n",
    "Uma forma de representar um vetor no espaço é através de um ponto localizado na extremidade da \"seta\" do vetor. Essa representação é especialmente útil quando queremos vizualizar uma grande quantidade de vetores. Crie um array chamado `dados`, de tamanho $n \\times 2$, em que cada linha represente um dos seguintes vetores de tamanho 2:\n",
    "\n",
    "- $(\\ 0.7,\\ 0.7\\ )$\n",
    "- $(\\ 0.0,\\ 1.0\\ )$\n",
    "- $(\\ -0.7,\\ 0.7\\ )$\n",
    "- $(\\ -1.0,\\ 0.0\\ )$\n",
    "- $(\\ -0.7,\\ -0.7\\ )$\n",
    "- $(\\ 0.0,\\ -1.0\\ )$\n",
    "- $(\\ 0.7,\\ -0.7\\ )$\n",
    "- $(\\ 1.0,\\ 0.0\\ )$\n",
    "\n",
    "\n",
    "Você pode achar a documentação do [`np.array`](https://numpy.org/doc/stable/reference/generated/numpy.array.html) útil."
   ]
  },
  {
   "cell_type": "code",
   "execution_count": 3,
   "metadata": {
    "id": "laSnwDnTT2b2"
   },
   "outputs": [
    {
     "name": "stdout",
     "output_type": "stream",
     "text": [
      "[[ 0.7  0.7]\n",
      " [ 0.   1. ]\n",
      " [-0.7  0.7]\n",
      " [-1.   0. ]\n",
      " [-0.7 -0.7]\n",
      " [ 0.  -1. ]\n",
      " [ 0.7 -0.7]\n",
      " [ 1.   0. ]]\n"
     ]
    }
   ],
   "source": [
    "# Código para Exercício 2.1\n",
    "dados = np.array([\n",
    "                [0.7, 0.7],\n",
    "                [0.0, 1.0],\n",
    "                [-0.7, 0.7],\n",
    "                [-1.0, 0.0],\n",
    "                [-0.7,-0.7],\n",
    "                [0.0, -1.0],\n",
    "                [0.7, -0.7],\n",
    "                [1.0, 0.0]\n",
    "                ])\n",
    "\n",
    "print(dados)\n"
   ]
  },
  {
   "cell_type": "markdown",
   "metadata": {
    "id": "MQBRlGAST7YU"
   },
   "source": [
    "#### Questão 2.2\n",
    "\n",
    "Vamos agora visualizar esses pontos no espaço 2D. Para isso, podemos usar a biblioteca [`matplotlib`](https://matplotlib.org/). Agora, com as coordenadas $x$ e $y$ dos pontos do exercício anterior, crie um gráfico de dispersão que mostre cada ponto no plano. Voce pode achar a documentação de [`plt.scatter`](https://matplotlib.org/3.1.0/api/_as_gen/matplotlib.pyplot.scatter.html) útil, além da dica que para escolher a coluna $i$ de um array bi-dimensional usamos `x[:, i]` (consulte essa página sobre [indexing](https://numpy.org/doc/stable/reference/arrays.indexing.html) em `numpy.arrays` para mais detalhes)."
   ]
  },
  {
   "cell_type": "code",
   "execution_count": 4,
   "metadata": {
    "id": "5EQWl7ATGtr1"
   },
   "outputs": [
    {
     "data": {
      "image/png": "[encoded data removed]",
      "text/plain": [
       "<Figure size 432x288 with 1 Axes>"
      ]
     },
     "metadata": {
      "needs_background": "light"
     },
     "output_type": "display_data"
    }
   ],
   "source": [
    "# Código para Exercício 2.2\n",
    "x = dados[:,0]\n",
    "y = dados[:,1]\n",
    "\n",
    "plt.scatter(x, y)\n",
    "plt.show()"
   ]
  },
  {
   "cell_type": "markdown",
   "metadata": {
    "id": "HjvjGXteUoa4"
   },
   "source": [
    "#### Questão 2.3\n",
    "\n",
    "Agora que temos como visualizar os vetores no plano, vamos fazer operação de adição de vetores. Crie um array que represente um vetor $\\textbf{a}=(\\ 6,\\ 9\\ )$ e adicione-o a todos os vetores no nosso array, criando um novo array chamado `novos_dados`.\n",
    "\n",
    "**Dica**: Quando estamos tratando de matrizes, não podemos simplesmente adicionar uma matriz de tamanho $n \\times 2$ por um vetor de tamanho $2$, ou $1 \\times 2$. Porém, o `numpy` tem uma funcionalidade que é muito útil quando queremos fazer operações entre arrays que não possuem o mesmo tamanho, como é o nosso caso (podemos ver isso usando: `print(dados.shape, a.shape)`). Essa funcionalidade é o [broadcasting](https://numpy.org/doc/stable/user/basics.broadcasting.html), e ela nos ajuda a fazer operações entre arrays que não possuem o mesmo tamanho, mas algumas dimensões são compatíveis. "
   ]
  },
  {
   "cell_type": "code",
   "execution_count": 5,
   "metadata": {
    "id": "E3Yg_vv1U2Q6"
   },
   "outputs": [
    {
     "name": "stdout",
     "output_type": "stream",
     "text": [
      "[[ 6.7  9.7]\n",
      " [ 6.  10. ]\n",
      " [ 5.3  9.7]\n",
      " [ 5.   9. ]\n",
      " [ 5.3  8.3]\n",
      " [ 6.   8. ]\n",
      " [ 6.7  8.3]\n",
      " [ 7.   9. ]]\n"
     ]
    }
   ],
   "source": [
    "# Código para Exercício 2.3\n",
    "a = np.array([6,9])\n",
    "\n",
    "novos_dados = dados + a\n",
    "\n",
    "print(novos_dados)"
   ]
  },
  {
   "cell_type": "markdown",
   "metadata": {
    "id": "dx5BrTVbdUS7"
   },
   "source": [
    "#### Questão 2.4\n",
    "\n",
    "Note que para somar arrays de dimensões diferentes (nesse caso, dados é 2D e a é 1D), o broadcasting primeiro adiciona dimensões de tamanho 1 ao início do array com menos dimensões. Só depois ele expande as dimensões de tamanho 1 para que casem com os tamanhos das dimensões do outro array.\n",
    "\n",
    "Portanto, devemos pensar no array ```a``` como um vetor coluna ou como um vetor linha?"
   ]
  },
  {
   "cell_type": "markdown",
   "metadata": {
    "id": "vVVBkK6ceWP9"
   },
   "source": [
    "**Resposta:** Devemos pensar no array a como um vetor coluna, pois, conforme foi dito acima, o broadcasting primeiramente adiciona dimensões de tamanho 1 ao início do array \"a\" (6,9), ficando uma coluna com o número de linhas do array \"novos_dados\", da seguinte forma (por exemplo):\n",
    "\n",
    "[[6,  9],\n",
    " [6],\n",
    " [6],\n",
    " [6],\n",
    " [6],\n",
    " [6],\n",
    " [6],\n",
    " [6]\n",
    "]\n",
    "\n",
    "ou\n",
    "\n",
    "[[6,  9],\n",
    "     [9],\n",
    "     [9],\n",
    "     [9],\n",
    "     [9],\n",
    "     [9],\n",
    "     [9],\n",
    "     [9]\n",
    "]\n",
    "\n",
    "Logo, é possível ver que esse processo de expansão se deve ao fato de que este vetor \"a\" de 1D vai virar um vetor coluna para assim expandir e ficar com o mesmo número de colunas do array \"novos_dados\".\n",
    "\n"
   ]
  },
  {
   "cell_type": "markdown",
   "metadata": {
    "id": "DxzZGekorL3m"
   },
   "source": [
    "#### Questão 2.5\n",
    "\n",
    "Agora podemos ver no espaço 2D nossos vetores originais e os vetores resultantes da soma. Para isso, podemos usar a mesma função que usamos para criar o gráfico de dispersão na **Questão 2.2**, porém agora queremos mostrar os pontos de 2 arrays, e não de apenas 1."
   ]
  },
  {
   "cell_type": "code",
   "execution_count": 6,
   "metadata": {
    "id": "xeBdgoFMrQwP"
   },
   "outputs": [
    {
     "data": {
      "image/png": "[encoded data removed]",
      "text/plain": [
       "<Figure size 432x288 with 1 Axes>"
      ]
     },
     "metadata": {
      "needs_background": "light"
     },
     "output_type": "display_data"
    }
   ],
   "source": [
    "# Código para Exercício 2.5\n",
    "\n",
    "x = np.concatenate((dados[:,0], novos_dados[:,0]))\n",
    "y = np.concatenate((dados[:,1], novos_dados[:,1]))\n",
    "\n",
    "plt.scatter(x, y)\n",
    "plt.show()"
   ]
  },
  {
   "cell_type": "markdown",
   "metadata": {
    "id": "Sz1apyFP090L"
   },
   "source": [
    "### Questão 3\n",
    "\n",
    "Como visto em aula, a multiplicação de uma matriz $G$ por um vetor $\\mathbb{x}$ pode ser vista como uma combinação linear das colunas de $G$.\n"
   ]
  },
  {
   "cell_type": "markdown",
   "metadata": {
    "id": "6Ij42r1ctg0g"
   },
   "source": [
    "\n",
    "#### Questão 3.1\n",
    "\n",
    "Dado a matriz $G$ e o vetor $\\mathbb{x}$:\n",
    "\n",
    "$$\n",
    "G = \\begin{bmatrix}\n",
    " 3 & 6 & 9\\\\\n",
    " 5 & 10 & 15\n",
    "\\end{bmatrix}_{2\\times 3}\n",
    "\\qquad\n",
    "\\mathbb{x} = \\begin{bmatrix}\n",
    " 2 \\\\\n",
    " 1 \\\\\n",
    " 1\n",
    "\\end{bmatrix}_{3\\times 1}\n",
    "$$\n",
    "\n",
    "Gere o vetor $\\mathbb{y}$ tal que:\n",
    "$$\n",
    "\\mathbb{y} = G \\mathbb{x} \\\\\n",
    "$$\n"
   ]
  },
  {
   "cell_type": "code",
   "execution_count": 7,
   "metadata": {
    "id": "cGNQcr7Ptk0r"
   },
   "outputs": [
    {
     "name": "stdout",
     "output_type": "stream",
     "text": [
      "[[21.]\n",
      " [35.]]\n"
     ]
    }
   ],
   "source": [
    "# Código para Exercício 3.1\n",
    "G = np.array([[3,6,9],\n",
    "              [5,10,15]\n",
    "             ])\n",
    "\n",
    "x = np.array([[2],\n",
    "              [1],\n",
    "              [1]\n",
    "             ])\n",
    "\n",
    "y = np.zeros((2,1))\n",
    "\n",
    "for i in range(len(x)):\n",
    "    y += np.reshape(x[i] * G[:,i], (2,1))\n",
    "    \n",
    "print(y)"
   ]
  },
  {
   "cell_type": "markdown",
   "metadata": {
    "id": "rD0TR2nPuIo8"
   },
   "source": [
    "#### Questão 3.2\n",
    "\n",
    "O espaço de colunas de uma matriz pode ser interpretado como o espaço formado por todas as combinações lineares das colunas da matriz. Então, vamos simular a representação do espaço de colunas da matriz $G$ criada anteriormente fazendo várias combinações lineares de suas colunas. Para isso, podemos criar vários vetores-coluna $x$ aleatórios, calcular a operação $y = Gx$ para cada um deles, e mostrar onde cada vetor $y$ está localizado no espaço. Portanto, faça os seguintes passos:\n",
    "\n",
    "1. Crie um vetor-coluna $x \\in \\mathbb{R}^{3 \\times 1}$ com valores aleatórios entre $-10$ e $10$.\n",
    "1. Calcule $y = Gx$. Esse passo pode ser feito da mesma forma que a **Questão 3.1**.\n",
    "1. Plote no plano 2D um ponto com as coordenadas do $y$ resultante.\n",
    "\n",
    "Repita esses passos 10 vezes. **Dica:** para a criação dos valores $x$ aleatórios, voce pode escolher os números você mesmo ou usar a função [`np.random.randint`](https://numpy.org/doc/stable/reference/random/generated/numpy.random.randint.html). Para a  visualização, utilize a biblioteca [`matplotlib`](https://matplotlib.org/), e deixe para usar `plt.show()` apenas depois de ter plotado todos os vetores $y$, para que todos apareçam no mesmo gráfico."
   ]
  },
  {
   "cell_type": "code",
   "execution_count": 8,
   "metadata": {
    "id": "bf8B6CPPwXsE"
   },
   "outputs": [
    {
     "data": {
      "image/png": "[encoded data removed]",
      "text/plain": [
       "<Figure size 432x288 with 1 Axes>"
      ]
     },
     "metadata": {
      "needs_background": "light"
     },
     "output_type": "display_data"
    }
   ],
   "source": [
    "# Código para Exercício 3.2\n",
    "\n",
    "for y in range(10):\n",
    "    x = np.array([[np.random.randint(-10,10)],\n",
    "              [np.random.randint(-10,10)],\n",
    "              [np.random.randint(-10,10)],\n",
    "             ])\n",
    "\n",
    "    y = np.zeros((2,1))\n",
    "    \n",
    "    for i in range(len(x)):\n",
    "        y += np.reshape(x[i] * G[:,i], (2,1))\n",
    "        plt.scatter(y[0],y[1])\n",
    "\n",
    "plt.show()\n"
   ]
  },
  {
   "cell_type": "markdown",
   "metadata": {
    "id": "WWwfDjZQyBKt"
   },
   "source": [
    "#### Questão 3.3\n",
    "\n",
    "No item anterior, você deve ter obtido uma reta ao visualizar o gráfico resultante. Por que isso acontece no caso dessa matriz $G$ em específico?"
   ]
  },
  {
   "cell_type": "markdown",
   "metadata": {
    "id": "mpB7U8BqyEQl"
   },
   "source": [
    "**Resposta:** Nós obtivemos uma reta ao visualizar o gráfico resultante, pois G possui apenas uma coluna linearmente independente, a coluna 2 que é (6, 10), é a coluna 1 (3, 5) multiplicada por 2. Assim como a coluna 3 que é (9, 15), é a coluna 1 (3, 5) multiplicada por 3. Com isso, temos que a coluna LI é a coluna 1 (3, 5), que consequentemente, é a base do espaço coluna.\n",
    "\n",
    "Portanto, o subespaço gerado pela coluna LI de G será de R¹, ou seja, será uma reta que passa pela origem."
   ]
  },
  {
   "cell_type": "markdown",
   "metadata": {
    "id": "9XrQcmBc4RVE"
   },
   "source": [
    "#### Questão 3.4\n",
    "\n",
    "Agora que sabemos que o espaço coluna da matriz $G$ é uma reta, encontre dois pontos no espaço coluna $C(G)$ e use o comando ```plt.plot()``` para traçá-la."
   ]
  },
  {
   "cell_type": "code",
   "execution_count": 9,
   "metadata": {
    "id": "S-zMnudo4kXZ"
   },
   "outputs": [
    {
     "data": {
      "image/png": "[encoded data removed]",
      "text/plain": [
       "<Figure size 432x288 with 1 Axes>"
      ]
     },
     "metadata": {
      "needs_background": "light"
     },
     "output_type": "display_data"
    }
   ],
   "source": [
    "# Código para Exercício 3.4\n",
    "# O ponto \"a\" será o par ordenado (3,5) e o ponto \"b\" será o par ordenado (6,10)\n",
    "\n",
    "a = G[0,:2]\n",
    "b = G[1,:2]\n",
    "\n",
    "plt.plot(a,b)\n",
    "plt.show()"
   ]
  }
 ],
 "metadata": {
  "colab": {
   "collapsed_sections": [],
   "name": "EP1_release.ipynb",
   "provenance": []
  },
  "kernelspec": {
   "display_name": "Python 3",
   "language": "python",
   "name": "python3"
  },
  "language_info": {
   "codemirror_mode": {
    "name": "ipython",
    "version": 3
   },
   "file_extension": ".py",
   "mimetype": "text/x-python",
   "name": "python",
   "nbconvert_exporter": "python",
   "pygments_lexer": "ipython3",
   "version": "3.8.5"
  }
 },
 "nbformat": 4,
 "nbformat_minor": 1
}
